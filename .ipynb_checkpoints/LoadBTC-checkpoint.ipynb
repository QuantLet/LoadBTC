{
 "cells": [
  {
   "cell_type": "code",
   "execution_count": 4,
   "metadata": {},
   "outputs": [],
   "source": [
    "import numpy as np\n",
    "import pandas as pd\n",
    "import matplotlib.pyplot as plt"
   ]
  },
  {
   "cell_type": "code",
   "execution_count": 5,
   "metadata": {},
   "outputs": [],
   "source": [
    "btc      = pd.read_csv('BTCUSDT.csv')\n",
    "\n",
    "btc      = btc[btc['Date'] >= '2019-04-01']"
   ]
  },
  {
   "cell_type": "code",
   "execution_count": 6,
   "metadata": {},
   "outputs": [
    {
     "data": {
      "image/png": "[encoded data removed]",
      "text/plain": [
       "<Figure size 864x288 with 1 Axes>"
      ]
     },
     "metadata": {
      "needs_background": "light"
     },
     "output_type": "display_data"
    }
   ],
   "source": [
    "d1, d2  = '2019-09-30', '2020-01-31'\n",
    "\n",
    "df      = btc.reset_index()\n",
    "df1     = df[df['Date'] <= d1]\n",
    "df2     = df[(df['Date'] > d1) & (df['Date'] <= d2)]\n",
    "df3     = df[df['Date'] > d2]\n",
    "\n",
    "fig, ax = plt.subplots(figsize=(12, 4))\n",
    "ax.plot(df1['Date'], df1['Adj.Close'], c='b')\n",
    "ax.plot(df2['Date'], df2['Adj.Close'], c='black')\n",
    "ax.plot(df3['Date'], df3['Adj.Close'], c='r')\n",
    "ax.set_xlabel(\"Date\")\n",
    "ax.set_ylabel(\"BTC Price\")\n",
    "fig.savefig(\"btc.png\", transparent=True)"
   ]
  },
  {
   "cell_type": "code",
   "execution_count": 23,
   "metadata": {},
   "outputs": [],
   "source": [
    "df1_sum = df1.describe()\n",
    "df2_sum = df2.describe()\n",
    "df3_sum = df3.describe()"
   ]
  },
  {
   "cell_type": "code",
   "execution_count": 50,
   "metadata": {},
   "outputs": [],
   "source": [
    "df_frames = [df1_sum['Adj.Close'],df2_sum['Adj.Close'],df3_sum['Adj.Close']]"
   ]
  },
  {
   "cell_type": "code",
   "execution_count": 49,
   "metadata": {},
   "outputs": [
    {
     "data": {
      "text/html": [
       "<div>\n",
       "<style scoped>\n",
       "    .dataframe tbody tr th:only-of-type {\n",
       "        vertical-align: middle;\n",
       "    }\n",
       "\n",
       "    .dataframe tbody tr th {\n",
       "        vertical-align: top;\n",
       "    }\n",
       "\n",
       "    .dataframe thead th {\n",
       "        text-align: right;\n",
       "    }\n",
       "</style>\n",
       "<table border=\"1\" class=\"dataframe\">\n",
       "  <thead>\n",
       "    <tr style=\"text-align: right;\">\n",
       "      <th></th>\n",
       "      <th>mean</th>\n",
       "      <th>std</th>\n",
       "      <th>min</th>\n",
       "      <th>25%</th>\n",
       "      <th>50%</th>\n",
       "      <th>75%</th>\n",
       "      <th>max</th>\n",
       "    </tr>\n",
       "  </thead>\n",
       "  <tbody>\n",
       "    <tr>\n",
       "      <th>BULLISH</th>\n",
       "      <td>8823.83</td>\n",
       "      <td>2208.78</td>\n",
       "      <td>4145.06</td>\n",
       "      <td>7640.94</td>\n",
       "      <td>9518.80</td>\n",
       "      <td>10420.47</td>\n",
       "      <td>12609.38</td>\n",
       "    </tr>\n",
       "    <tr>\n",
       "      <th>CALM</th>\n",
       "      <td>8080.81</td>\n",
       "      <td>756.55</td>\n",
       "      <td>6587.22</td>\n",
       "      <td>7341.74</td>\n",
       "      <td>8116.72</td>\n",
       "      <td>8660.65</td>\n",
       "      <td>9563.69</td>\n",
       "    </tr>\n",
       "    <tr>\n",
       "      <th>COVID</th>\n",
       "      <td>7895.68</td>\n",
       "      <td>1497.13</td>\n",
       "      <td>4921.88</td>\n",
       "      <td>6757.84</td>\n",
       "      <td>7607.16</td>\n",
       "      <td>9351.92</td>\n",
       "      <td>10346.00</td>\n",
       "    </tr>\n",
       "  </tbody>\n",
       "</table>\n",
       "</div>"
      ],
      "text/plain": [
       "            mean      std      min      25%      50%       75%       max\n",
       "BULLISH  8823.83  2208.78  4145.06  7640.94  9518.80  10420.47  12609.38\n",
       "CALM     8080.81   756.55  6587.22  7341.74  8116.72   8660.65   9563.69\n",
       "COVID    7895.68  1497.13  4921.88  6757.84  7607.16   9351.92  10346.00"
      ]
     },
     "execution_count": 49,
     "metadata": {},
     "output_type": "execute_result"
    }
   ],
   "source": [
    "df = pd.DataFrame(df_frames, index=['BULLISH', 'CALM', 'COVID'])\n",
    "columns = df.columns\n",
    "df = pd.DataFrame(np.round(df_frames, 2), index=['BULLISH', 'CALM', 'COVID'], columns=columns)\n",
    "del df['count']\n",
    "df"
   ]
  },
  {
   "cell_type": "code",
   "execution_count": null,
   "metadata": {},
   "outputs": [],
   "source": []
  }
 ],
 "metadata": {
  "kernelspec": {
   "display_name": "Python 3",
   "language": "python",
   "name": "python3"
  },
  "language_info": {
   "codemirror_mode": {
    "name": "ipython",
    "version": 3
   },
   "file_extension": ".py",
   "mimetype": "text/x-python",
   "name": "python",
   "nbconvert_exporter": "python",
   "pygments_lexer": "ipython3",
   "version": "3.8.5"
  }
 },
 "nbformat": 4,
 "nbformat_minor": 4
}
